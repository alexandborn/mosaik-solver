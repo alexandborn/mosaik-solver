{
 "cells": [
  {
   "cell_type": "code",
   "execution_count": 1,
   "metadata": {},
   "outputs": [],
   "source": [
    "import numpy as np"
   ]
  },
  {
   "cell_type": "code",
   "execution_count": 2,
   "metadata": {},
   "outputs": [
    {
     "data": {
      "text/plain": [
       "array([[-1, -1, -1, -1, -1, -1, -1, -1, -1, -1],\n",
       "       [-1, -1, -1, -1, -1, -1, -1, -1, -1, -1],\n",
       "       [-1, -1, -1, -1, -1, -1, -1, -1, -1, -1],\n",
       "       [-1, -1, -1, -1, -1, -1, -1, -1, -1, -1],\n",
       "       [-1, -1, -1, -1, -1, -1, -1, -1, -1, -1],\n",
       "       [-1, -1, -1, -1, -1, -1, -1, -1, -1, -1],\n",
       "       [-1, -1, -1, -1, -1, -1, -1, -1, -1, -1],\n",
       "       [-1, -1, -1, -1, -1, -1, -1, -1, -1, -1],\n",
       "       [-1, -1, -1, -1, -1, -1, -1, -1, -1, -1],\n",
       "       [-1, -1, -1, -1, -1, -1, -1, -1, -1, -1]], dtype=int8)"
      ]
     },
     "execution_count": 2,
     "metadata": {},
     "output_type": "execute_result"
    }
   ],
   "source": [
    "# Matrix der richtigen Größe mit Einsen\n",
    "M = np.ones(shape=(10,10), dtype=np.int8) * -1\n",
    "M"
   ]
  },
  {
   "cell_type": "code",
   "execution_count": 3,
   "metadata": {},
   "outputs": [
    {
     "data": {
      "text/plain": [
       "array([[ 1, -1, -1,  6, -1,  3, -1, -1, -1, -1],\n",
       "       [-1, -1, -1, -1, -1, -1, -1,  0, -1,  0],\n",
       "       [ 4, -1,  8, -1,  9,  7, -1, -1, -1,  1],\n",
       "       [-1, -1, -1,  8, -1, -1,  7, -1, -1,  3],\n",
       "       [ 3, -1,  9, -1,  9, -1, -1,  9, -1, -1],\n",
       "       [ 3, -1,  9, -1, -1, -1, -1, -1, -1, -1],\n",
       "       [-1, -1, -1,  9, -1, -1,  9,  8, -1,  2],\n",
       "       [-1, -1, -1,  6, -1, -1, -1, -1, -1, -1],\n",
       "       [ 0, -1, -1, -1, -1, -1, -1, -1, -1,  0],\n",
       "       [-1, -1,  0, -1, -1,  3, -1,  0, -1, -1]], dtype=int8)"
      ]
     },
     "execution_count": 3,
     "metadata": {},
     "output_type": "execute_result"
    }
   ],
   "source": [
    "# Matrix M mit den Vorgabewerten aus dem Mosaik-Rätsel füllen\n",
    "M = np.array([[ 1, -1, -1,  6, -1,  3, -1, -1, -1, -1],\n",
    "              [-1, -1, -1, -1, -1, -1, -1,  0, -1,  0],\n",
    "              [ 4, -1,  8, -1,  9,  7, -1, -1, -1,  1],\n",
    "              [-1, -1, -1,  8, -1, -1,  7, -1, -1,  3],\n",
    "              [ 3, -1,  9, -1,  9, -1, -1,  9, -1, -1],\n",
    "              [ 3, -1,  9, -1, -1, -1, -1, -1, -1, -1],\n",
    "              [-1, -1, -1,  9, -1, -1,  9,  8, -1,  2],\n",
    "              [-1, -1, -1,  6, -1, -1, -1, -1, -1, -1],\n",
    "              [ 0, -1, -1, -1, -1, -1, -1, -1, -1,  0],\n",
    "              [-1, -1,  0, -1, -1,  3, -1,  0, -1, -1]], dtype=np.int8)\n",
    "M"
   ]
  },
  {
   "cell_type": "code",
   "execution_count": 4,
   "metadata": {},
   "outputs": [],
   "source": [
    "# Lösung mittels Gleichungssystem Ax = b.\n",
    "# Der Vektor x enthält die Unbekannten x00, x01, ..., x10, x11, ..., xnm,\n",
    "# wobei der erste Index die Zeile des Mosaiks beschreibt und der zweite die Spalte.\n",
    "# Mögliche Lösungen für die Unbekannten x sind 1 oder 0."
   ]
  },
  {
   "cell_type": "code",
   "execution_count": 5,
   "metadata": {},
   "outputs": [
    {
     "data": {
      "text/plain": [
       "array([1, 6, 3, 0, 0, 4, 8, 9, 7, 1, 8, 7, 3, 3, 9, 9, 9, 3, 9, 9, 9, 8,\n",
       "       2, 6, 0, 0, 0, 3, 0], dtype=int8)"
      ]
     },
     "execution_count": 5,
     "metadata": {},
     "output_type": "execute_result"
    }
   ],
   "source": [
    "# Vektor der rechten Seite B: Die vorgegebenen Zahlen im Mosaik \n",
    "B = []\n",
    "x = np.nditer(M, flags=['multi_index'])\n",
    "while not x.finished:\n",
    "    if x[0] != -1:\n",
    "        B.append(x[0])\n",
    "    x.iternext()\n",
    "B = np.asarray(B)\n",
    "B"
   ]
  },
  {
   "cell_type": "code",
   "execution_count": 6,
   "metadata": {},
   "outputs": [
    {
     "data": {
      "text/plain": [
       "array([0, 0, 0, 0, 0, 0, 0, 0, 0, 0, 0, 0, 0, 0, 0, 0, 0, 0, 0, 0, 0, 0,\n",
       "       0, 0, 0, 0, 0, 0, 0, 0, 0, 0, 0, 0, 0, 0, 0, 0, 0, 0, 0, 0, 0, 0,\n",
       "       0, 0, 0, 0, 0, 0, 0, 0, 0, 0, 0, 0, 0, 0, 0, 0, 0, 0, 0, 0, 0, 0,\n",
       "       0, 0, 0, 0, 0, 0, 0, 0, 0, 0, 0, 0, 0, 0, 0, 0, 0, 0, 0, 0, 0, 0,\n",
       "       0, 0, 0, 0, 0, 0, 0, 0, 0, 0, 0, 0], dtype=int8)"
      ]
     },
     "execution_count": 6,
     "metadata": {},
     "output_type": "execute_result"
    }
   ],
   "source": [
    "# Koeffizientenmatrix A\n",
    "A = np.zeros(shape=(B.size, M.size), dtype=np.int8)\n",
    "A[0]"
   ]
  },
  {
   "cell_type": "code",
   "execution_count": 7,
   "metadata": {},
   "outputs": [
    {
     "name": "stdout",
     "output_type": "stream",
     "text": [
      "1 - 0 - (0, 0)\n",
      "6 - 3 - (0, 3)\n",
      "3 - 5 - (0, 5)\n",
      "0 - 17 - (1, 7)\n",
      "0 - 19 - (1, 9)\n",
      "4 - 20 - (2, 0)\n",
      "8 - 22 - (2, 2)\n",
      "9 - 24 - (2, 4)\n",
      "7 - 25 - (2, 5)\n",
      "1 - 29 - (2, 9)\n",
      "8 - 33 - (3, 3)\n",
      "7 - 36 - (3, 6)\n",
      "3 - 39 - (3, 9)\n",
      "3 - 40 - (4, 0)\n",
      "9 - 42 - (4, 2)\n",
      "9 - 44 - (4, 4)\n",
      "9 - 47 - (4, 7)\n",
      "3 - 50 - (5, 0)\n",
      "9 - 52 - (5, 2)\n",
      "9 - 63 - (6, 3)\n",
      "9 - 66 - (6, 6)\n",
      "8 - 67 - (6, 7)\n",
      "2 - 69 - (6, 9)\n",
      "6 - 73 - (7, 3)\n",
      "0 - 80 - (8, 0)\n",
      "0 - 89 - (8, 9)\n",
      "0 - 92 - (9, 2)\n",
      "3 - 95 - (9, 5)\n",
      "0 - 97 - (9, 7)\n"
     ]
    }
   ],
   "source": [
    "x = np.nditer(M, flags=['c_index', 'multi_index'])\n",
    "\n",
    "count = 0\n",
    "while not x.finished:\n",
    "    if x[0] != -1:\n",
    "        print(x[0], \"-\", x.index, \"-\", x.multi_index)\n",
    "        \n",
    "        # Eigene Zeile\n",
    "        A[count][x.index] = 1\n",
    "        # Falls nicht die erste Spalte\n",
    "        if x.multi_index[1] > 0:\n",
    "            A[count][x.index - 1] = 1\n",
    "        # Falls nicht die letzte Spalte\n",
    "        if x.multi_index[1] < 9:\n",
    "            A[count][x.index + 1] = 1\n",
    "        \n",
    "        # Falls nicht die erste Zeile\n",
    "        if x.multi_index[0] > 0:\n",
    "            A[count][x.index - 9] = 1\n",
    "            # Falls nicht die erste Spalte\n",
    "            if x.multi_index[1] > 0:\n",
    "                A[count][x.index - 9 - 1] = 1\n",
    "            # Falls nicht die letzte Spalte\n",
    "            if x.multi_index[1] < 9:\n",
    "                A[count][x.index - 9 + 1] = 1\n",
    "        \n",
    "        # Falls nicht die letzte Zeile\n",
    "        if x.multi_index[0] < 9:\n",
    "            A[count][x.index + 9] = 1\n",
    "            # Falls nicht die erste Spalte\n",
    "            if x.multi_index[1] > 0:\n",
    "                A[count][x.index - 1] = 1\n",
    "            # Falls nicht die letzte Spalte\n",
    "            if x.multi_index[1] < 9:\n",
    "                A[count][x.index + 1] = 1\n",
    "        \n",
    "        count += 1\n",
    "    x.iternext()"
   ]
  },
  {
   "cell_type": "code",
   "execution_count": 9,
   "metadata": {},
   "outputs": [
    {
     "data": {
      "text/plain": [
       "array([[1, 1, 0, ..., 0, 0, 0],\n",
       "       [0, 0, 1, ..., 0, 0, 0],\n",
       "       [0, 0, 0, ..., 0, 0, 0],\n",
       "       ...,\n",
       "       [0, 0, 0, ..., 0, 0, 0],\n",
       "       [0, 0, 0, ..., 0, 0, 0],\n",
       "       [0, 0, 0, ..., 1, 1, 0]], dtype=int8)"
      ]
     },
     "execution_count": 9,
     "metadata": {},
     "output_type": "execute_result"
    }
   ],
   "source": [
    "A"
   ]
  },
  {
   "cell_type": "code",
   "execution_count": null,
   "metadata": {},
   "outputs": [],
   "source": []
  }
 ],
 "metadata": {
  "kernelspec": {
   "display_name": "Python 3",
   "language": "python",
   "name": "python3"
  },
  "language_info": {
   "codemirror_mode": {
    "name": "ipython",
    "version": 3
   },
   "file_extension": ".py",
   "mimetype": "text/x-python",
   "name": "python",
   "nbconvert_exporter": "python",
   "pygments_lexer": "ipython3",
   "version": "3.6.4"
  }
 },
 "nbformat": 4,
 "nbformat_minor": 2
}
