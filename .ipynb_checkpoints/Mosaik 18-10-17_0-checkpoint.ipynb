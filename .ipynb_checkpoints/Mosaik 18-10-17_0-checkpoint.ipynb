{
 "cells": [
  {
   "cell_type": "code",
   "execution_count": 43,
   "metadata": {},
   "outputs": [],
   "source": [
    "import numpy as np\n",
    "import csv\n",
    "\n",
    "# Spielfeld aus csv-Datei importieren, Format: index,target,zeile,spalte\n",
    "Targ = []\n",
    "Coord = []\n",
    "with open('/home/alex/Schreibtisch/Raetsel/10x10.csv', 'rt', encoding=\"utf8\") as csvfile:\n",
    "    spielfeld = csv.reader(csvfile)\n",
    "    for idx, row in enumerate(spielfeld):\n",
    "        Targ.append(int(row[1]))\n",
    "        Coord.append([int(row[2]),int(row[3])])\n",
    "\n",
    "# Spielfeld-Größe definieren\n",
    "Size = (10,10)\n",
    "\n",
    "# Problem-Matrix erzeugen\n",
    "Prob = [[-1 for n in range(Size[1])] for k in range(Size[0])]\n",
    "Prob = np.asarray(Prob)\n",
    "for idx, targ in enumerate(Targ):\n",
    "    Prob[Coord[idx][0]][Coord[idx][1]] = targ\n",
    "\n",
    "# Resolution-Matrix erzeugen\n",
    "Reso = [[0 for n in range(Size[1])] for k in range(Size[0])]\n",
    "Reso = np.asarray(Reso)\n",
    "\n",
    "# Affected-Matrizen erzeugen\n",
    "Aff = []\n",
    "for idx, targ in enumerate(Targ):\n",
    "    Aff.append([[0 for n in range(Size[1])] for k in range(Size[0])])\n",
    "    for row_offset in [-1, 0, 1]:\n",
    "        if Coord[idx][0] + row_offset < 0 or Coord[idx][0] + row_offset == Size[0]:\n",
    "            continue\n",
    "        for col_offset in [-1, 0, 1]:\n",
    "            if Coord[idx][1] + col_offset < 0 or Coord[idx][1] + col_offset == Size[1]:\n",
    "                continue\n",
    "            Aff[idx][Coord[idx][0]+row_offset][Coord[idx][1]+col_offset] = 1\n",
    "Aff = np.asarray(Aff)"
   ]
  },
  {
   "cell_type": "code",
   "execution_count": 44,
   "metadata": {},
   "outputs": [
    {
     "name": "stdout",
     "output_type": "stream",
     "text": [
      "[[ 1 -1 -1  6 -1  3 -1 -1 -1 -1]\n",
      " [-1 -1 -1 -1 -1 -1 -1  0 -1  0]\n",
      " [ 4 -1  8 -1  9  7 -1 -1 -1  1]\n",
      " [-1 -1 -1  8 -1 -1  7 -1 -1  3]\n",
      " [ 3 -1  9 -1  9 -1 -1  9 -1 -1]\n",
      " [ 3 -1  9 -1 -1 -1 -1 -1 -1 -1]\n",
      " [-1 -1 -1  9 -1 -1  9  8 -1  2]\n",
      " [-1 -1 -1  6 -1 -1 -1 -1 -1 -1]\n",
      " [ 0 -1 -1 -1 -1 -1 -1 -1 -1  0]\n",
      " [-1 -1  0 -1 -1  3 -1  0 -1 -1]]\n",
      "\n",
      "[[0 0 0 0 0 0 0 0 0 0]\n",
      " [0 0 0 0 0 0 0 0 0 0]\n",
      " [0 0 0 0 0 0 0 0 0 0]\n",
      " [0 0 0 0 0 0 0 0 0 0]\n",
      " [0 0 0 0 0 0 0 0 0 0]\n",
      " [0 0 0 0 0 0 0 0 0 0]\n",
      " [0 0 0 0 0 0 0 0 0 0]\n",
      " [0 0 0 0 0 0 0 0 0 0]\n",
      " [0 0 0 0 0 0 0 0 0 0]\n",
      " [0 0 0 0 0 0 0 0 0 0]]\n"
     ]
    }
   ],
   "source": [
    "# Problem- und Resolution-Matrix anzeigen\n",
    "print(Prob)\n",
    "print()\n",
    "print(Reso)"
   ]
  },
  {
   "cell_type": "raw",
   "metadata": {},
   "source": [
    "# Affected-Matrizen anzeigen\n",
    "for matrix in Aff:\n",
    "    for row in matrix:\n",
    "        print(row)\n",
    "    print()"
   ]
  },
  {
   "cell_type": "code",
   "execution_count": 45,
   "metadata": {
    "scrolled": true
   },
   "outputs": [
    {
     "name": "stdout",
     "output_type": "stream",
     "text": [
      "Komplettes Umfeld durch Vorgabewerte definiert bei Index  1\n",
      "Vorgabewert = 0 bei Index  3\n",
      "Vorgabewert = 0 bei Index  4\n",
      "Komplettes Umfeld durch Vorgabewerte definiert bei Index  7\n",
      "Komplettes Umfeld durch Vorgabewerte definiert bei Index  14\n",
      "Komplettes Umfeld durch Vorgabewerte definiert bei Index  15\n",
      "Komplettes Umfeld durch Vorgabewerte definiert bei Index  16\n",
      "Komplettes Umfeld durch Vorgabewerte definiert bei Index  18\n",
      "Komplettes Umfeld durch Vorgabewerte definiert bei Index  19\n",
      "Komplettes Umfeld durch Vorgabewerte definiert bei Index  20\n",
      "Vorgabewert = 0 bei Index  24\n",
      "Vorgabewert = 0 bei Index  25\n",
      "Vorgabewert = 0 bei Index  26\n",
      "Vorgabewert = 0 bei Index  28\n"
     ]
    }
   ],
   "source": [
    "# Solver\n",
    "for idx, targ in enumerate(Targ):\n",
    "    # Prüfen, ob Umfeld durch einzelenen Vorgabewert definiert ist\n",
    "    if Aff[idx].sum() == targ:\n",
    "        print('Komplettes Umfeld durch Vorgabewerte definiert bei Index ',idx)\n",
    "        Reso += Aff[idx]\n",
    "    # Vorgabewerte = 0\n",
    "    if targ == 0:\n",
    "        print('Vorgabewert = 0 bei Index ',idx)\n",
    "        if Aff[idx].sum() > 0:\n",
    "            Aff[idx] = -Aff[idx]\n",
    "        Reso += Aff[idx]\n",
    "\n",
    "# Normieren\n",
    "Reso[Reso > 0] = 1\n",
    "Reso[Reso < 0] = -1"
   ]
  },
  {
   "cell_type": "code",
   "execution_count": 59,
   "metadata": {},
   "outputs": [
    {
     "name": "stdout",
     "output_type": "stream",
     "text": [
      "Vorgabewert bereits erfüllt, Rest streichen bei Index  0\n",
      "Vorgabewert bereits erfüllt, Rest streichen bei Index  1\n",
      "Vorgabewert bereits erfüllt, Rest streichen bei Index  2\n",
      "Vorgabewert bereits erfüllt, Rest streichen bei Index  6\n",
      "Vorgabewert bereits erfüllt, Rest streichen bei Index  7\n",
      "Vorgabewert bereits erfüllt, Rest streichen bei Index  8\n",
      "Vorgabewert bereits erfüllt, Rest streichen bei Index  9\n",
      "Vorgabewert bereits erfüllt, Rest streichen bei Index  10\n",
      "Vorgabewert bereits erfüllt, Rest streichen bei Index  11\n",
      "Vorgabewert bereits erfüllt, Rest streichen bei Index  12\n",
      "Vorgabewert bereits erfüllt, Rest streichen bei Index  13\n",
      "Vorgabewert bereits erfüllt, Rest streichen bei Index  14\n",
      "Vorgabewert bereits erfüllt, Rest streichen bei Index  15\n",
      "Vorgabewert bereits erfüllt, Rest streichen bei Index  16\n",
      "Vorgabewert bereits erfüllt, Rest streichen bei Index  17\n",
      "Vorgabewert bereits erfüllt, Rest streichen bei Index  18\n",
      "Vorgabewert bereits erfüllt, Rest streichen bei Index  19\n",
      "Vorgabewert bereits erfüllt, Rest streichen bei Index  20\n",
      "Vorgabewert bereits erfüllt, Rest streichen bei Index  21\n",
      "Vorgabewert bereits erfüllt, Rest streichen bei Index  22\n",
      "Vorgabewert bereits erfüllt, Rest streichen bei Index  23\n",
      "Vorgabewert bereits erfüllt, Rest streichen bei Index  27\n"
     ]
    }
   ],
   "source": [
    "for idx, aff in enumerate(Aff):\n",
    "    # Prüfen, ob im Umfeld einer Zahl bereits die richtige Anzahl an Kästchen ausgemalt ist, den Rest streichen\n",
    "    aR = aff * Reso\n",
    "    aR[aR<0] = 0\n",
    "    if aR.sum() == Targ[idx]:\n",
    "        print('Vorgabewert bereits erfüllt, Rest streichen bei Index ',idx)\n",
    "        Reso += aR - aff\n",
    "\n",
    "# Normieren\n",
    "Reso[Reso > 0] = 1\n",
    "Reso[Reso < 0] = -1"
   ]
  },
  {
   "cell_type": "code",
   "execution_count": 61,
   "metadata": {},
   "outputs": [
    {
     "name": "stdout",
     "output_type": "stream",
     "text": [
      "9-Target gestrichen bei Index  0 1\n",
      "9-Target gestrichen bei Index  1 6\n",
      "9-Target gestrichen bei Index  2 3\n",
      "9-Target gestrichen bei Index  5 4\n",
      "9-Target gestrichen bei Index  6 8\n",
      "9-Target gestrichen bei Index  7 9\n",
      "9-Target gestrichen bei Index  8 7\n",
      "9-Target gestrichen bei Index  9 1\n",
      "9-Target gestrichen bei Index  10 8\n",
      "9-Target gestrichen bei Index  11 7\n",
      "9-Target gestrichen bei Index  12 3\n",
      "9-Target gestrichen bei Index  13 3\n",
      "9-Target gestrichen bei Index  14 9\n",
      "9-Target gestrichen bei Index  15 9\n",
      "9-Target gestrichen bei Index  16 9\n",
      "9-Target gestrichen bei Index  17 3\n",
      "9-Target gestrichen bei Index  18 9\n",
      "9-Target gestrichen bei Index  19 9\n",
      "9-Target gestrichen bei Index  20 9\n",
      "9-Target gestrichen bei Index  21 8\n",
      "9-Target gestrichen bei Index  22 2\n",
      "9-Target gestrichen bei Index  23 6\n",
      "9-Target gestrichen bei Index  27 3\n"
     ]
    }
   ],
   "source": [
    "for idx, aff in enumerate(Aff):\n",
    "    # Prüfen, ob im Umfeld einer Zahl bereits 9 - target gestrichen --> dann den Rest ausmalen\n",
    "    aR = aff * Reso\n",
    "    aR[aR>0] = 0\n",
    "    if aR.sum() == (Targ[idx] - aff.sum()):\n",
    "        print('9-Target gestrichen bei Index ',idx, Targ[idx])\n",
    "        Reso += aR + aff\n",
    "\n",
    "# Normieren\n",
    "Reso[Reso > 0] = 1\n",
    "Reso[Reso < 0] = -1"
   ]
  },
  {
   "cell_type": "code",
   "execution_count": 62,
   "metadata": {},
   "outputs": [
    {
     "data": {
      "text/plain": [
       "array([[-1, -1,  1,  1,  1, -1, -1, -1, -1, -1],\n",
       "       [-1,  1,  1,  1,  1,  1, -1, -1, -1, -1],\n",
       "       [ 1,  1, -1,  1,  1,  1, -1, -1, -1, -1],\n",
       "       [-1,  1,  1,  1,  1,  1,  1,  1,  1, -1],\n",
       "       [-1,  1,  1,  1,  1,  1,  1,  1,  1,  1],\n",
       "       [-1,  1,  1,  1,  1,  1,  1,  1,  1, -1],\n",
       "       [-1,  1,  1,  1,  1,  1,  1,  1,  1, -1],\n",
       "       [-1, -1,  1,  1,  1,  1,  1,  1, -1, -1],\n",
       "       [-1, -1, -1, -1, -1,  1, -1, -1, -1, -1],\n",
       "       [-1, -1, -1, -1,  1,  1, -1, -1, -1, -1]])"
      ]
     },
     "execution_count": 62,
     "metadata": {},
     "output_type": "execute_result"
    }
   ],
   "source": [
    "Reso"
   ]
  },
  {
   "cell_type": "code",
   "execution_count": 32,
   "metadata": {},
   "outputs": [
    {
     "data": {
      "text/plain": [
       "8"
      ]
     },
     "execution_count": 32,
     "metadata": {},
     "output_type": "execute_result"
    }
   ],
   "source": [
    "Targ[-8]"
   ]
  },
  {
   "cell_type": "code",
   "execution_count": 42,
   "metadata": {},
   "outputs": [
    {
     "data": {
      "text/plain": [
       "array([[ 0,  0,  1,  1,  1, -1, -1, -1, -1, -1],\n",
       "       [ 0,  0,  1,  1,  1,  1, -1, -1, -1, -1],\n",
       "       [ 0,  0, -1,  1,  1,  1, -1, -1, -1, -1],\n",
       "       [-1,  1,  1,  1,  1,  1,  1,  1,  1, -1],\n",
       "       [-1,  1,  1,  1,  1,  1,  1,  1,  1,  0],\n",
       "       [-1,  1,  1,  1,  1,  1,  1,  1,  1,  0],\n",
       "       [-1,  1,  1,  1,  1,  1,  1,  1,  1,  0],\n",
       "       [-1, -1,  1,  1,  1,  1,  1,  1, -1, -1],\n",
       "       [-1, -1, -1, -1, -1,  0, -1, -1, -1, -1],\n",
       "       [-1, -1, -1, -1,  0,  0, -1, -1, -1, -1]])"
      ]
     },
     "execution_count": 42,
     "metadata": {},
     "output_type": "execute_result"
    }
   ],
   "source": [
    "aR = Aff[-8] * Reso\n",
    "aR[aR>0] = 0\n",
    "aR.sum() == Targ[-8] - Aff[-8].sum()\n",
    "Reso += aR + Aff[-8]\n",
    "Reso[Reso>0]=1\n",
    "Reso"
   ]
  },
  {
   "cell_type": "code",
   "execution_count": null,
   "metadata": {},
   "outputs": [],
   "source": []
  }
 ],
 "metadata": {
  "kernelspec": {
   "display_name": "Python 3",
   "language": "python",
   "name": "python3"
  },
  "language_info": {
   "codemirror_mode": {
    "name": "ipython",
    "version": 3
   },
   "file_extension": ".py",
   "mimetype": "text/x-python",
   "name": "python",
   "nbconvert_exporter": "python",
   "pygments_lexer": "ipython3",
   "version": "3.6.4"
  }
 },
 "nbformat": 4,
 "nbformat_minor": 2
}
