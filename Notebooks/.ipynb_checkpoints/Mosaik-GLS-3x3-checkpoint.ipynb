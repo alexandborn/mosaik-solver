{
 "cells": [
  {
   "cell_type": "code",
   "execution_count": 2,
   "metadata": {},
   "outputs": [],
   "source": [
    "import numpy as np"
   ]
  },
  {
   "cell_type": "code",
   "execution_count": 12,
   "metadata": {},
   "outputs": [
    {
     "name": "stdout",
     "output_type": "stream",
     "text": [
      "3 3\n"
     ]
    }
   ],
   "source": [
    "# Mosaikrätsel\n",
    "M = np.array([[ 2, -1, -1],\n",
    "              [ 3, -1,  1],\n",
    "              [ 3, -1,  1]], dtype=np.int8)\n",
    "zeilen = np.ma.size(M, axis=0)\n",
    "spalten = np.ma.size(M, axis=1)\n",
    "print(zeilen, spalten)"
   ]
  },
  {
   "cell_type": "code",
   "execution_count": 13,
   "metadata": {},
   "outputs": [],
   "source": [
    "# Lösung mittels Gleichungssystem Ax = b.\n",
    "# Der Vektor x enthält die Unbekannten x00, x01, ..., x10, x11, ..., xnm,\n",
    "# wobei der erste Index die Zeile des Mosaiks beschreibt und der zweite die Spalte.\n",
    "# Mögliche Lösungen für die Unbekannten x sind 1 oder 0."
   ]
  },
  {
   "cell_type": "code",
   "execution_count": 14,
   "metadata": {},
   "outputs": [
    {
     "data": {
      "text/plain": [
       "array([2, 1, 3, 1], dtype=int8)"
      ]
     },
     "execution_count": 14,
     "metadata": {},
     "output_type": "execute_result"
    }
   ],
   "source": [
    "# Vektor der rechten Seite B: Die vorgegebenen Zahlen im Mosaik \n",
    "B = []\n",
    "x = np.nditer(M, flags=['multi_index'])\n",
    "while not x.finished:\n",
    "    if x[0] != -1:\n",
    "        B.append(x[0])\n",
    "    x.iternext()\n",
    "B = np.asarray(B)\n",
    "B"
   ]
  },
  {
   "cell_type": "code",
   "execution_count": 26,
   "metadata": {},
   "outputs": [
    {
     "name": "stdout",
     "output_type": "stream",
     "text": [
      "Zahl:  2 Index:  0 Multi-Index:  (0, 0)\n",
      "Zahl:  1 Index:  5 Multi-Index:  (1, 2)\n",
      "Zahl:  3 Index:  6 Multi-Index:  (2, 0)\n",
      "Zahl:  1 Index:  8 Multi-Index:  (2, 2)\n",
      "[[1 1 0 1 1 0 0 0 0]\n",
      " [0 1 1 0 1 1 0 1 1]\n",
      " [0 0 0 1 1 0 1 1 0]\n",
      " [0 0 0 0 1 1 0 1 1]]\n"
     ]
    }
   ],
   "source": [
    "# Koeffizientenmatrix A\n",
    "A = np.zeros(shape=(B.size, M.size), dtype=np.int8)\n",
    "\n",
    "x = np.nditer(M, flags=['c_index', 'multi_index'])\n",
    "\n",
    "count = 0\n",
    "while not x.finished:\n",
    "    if x[0] != -1:\n",
    "        print(\"Zahl: \", x[0], \"Index: \", x.index, \"Multi-Index: \", x.multi_index)\n",
    "        \n",
    "        # Eigene Zeile\n",
    "        A[count][x.index] = 1\n",
    "        # Falls nicht die erste Spalte\n",
    "        if x.multi_index[1] > 0:\n",
    "            A[count][x.index - 1] = 1\n",
    "        # Falls nicht die letzte Spalte\n",
    "        if x.multi_index[1] < spalten - 1:\n",
    "            A[count][x.index + 1] = 1\n",
    "        \n",
    "        # Falls nicht die erste Zeile\n",
    "        if x.multi_index[0] > 0:\n",
    "            A[count][x.index - spalten] = 1\n",
    "            # Falls nicht die erste Spalte\n",
    "            if x.multi_index[1] > 0:\n",
    "                A[count][x.index - spalten - 1] = 1\n",
    "            # Falls nicht die letzte Spalte\n",
    "            if x.multi_index[1] < spalten - 1:\n",
    "                A[count][x.index - spalten + 1] = 1\n",
    "        \n",
    "        # Falls nicht die letzte Zeile\n",
    "        if x.multi_index[0] < zeilen - 1:\n",
    "            A[count][x.index + spalten] = 1\n",
    "            # Falls nicht die erste Spalte\n",
    "            if x.multi_index[1] > 0:\n",
    "                A[count][x.index + spalten - 1] = 1\n",
    "            # Falls nicht die letzte Spalte\n",
    "            if x.multi_index[1] < spalten -1:\n",
    "                A[count][x.index + spalten  + 1] = 1\n",
    "        \n",
    "        count += 1\n",
    "    x.iternext()\n",
    "\n",
    "print(A)"
   ]
  },
  {
   "cell_type": "code",
   "execution_count": 27,
   "metadata": {},
   "outputs": [
    {
     "data": {
      "text/plain": [
       "array([[1, 1, 0, 1, 1, 0, 0, 0, 0],\n",
       "       [0, 1, 1, 0, 1, 1, 0, 1, 1],\n",
       "       [0, 0, 0, 1, 1, 0, 1, 1, 0],\n",
       "       [0, 0, 0, 0, 1, 1, 0, 1, 1]], dtype=int8)"
      ]
     },
     "execution_count": 27,
     "metadata": {},
     "output_type": "execute_result"
    }
   ],
   "source": [
    "A"
   ]
  },
  {
   "cell_type": "code",
   "execution_count": null,
   "metadata": {},
   "outputs": [],
   "source": []
  }
 ],
 "metadata": {
  "kernelspec": {
   "display_name": "Python 3",
   "language": "python",
   "name": "python3"
  },
  "language_info": {
   "codemirror_mode": {
    "name": "ipython",
    "version": 3
   },
   "file_extension": ".py",
   "mimetype": "text/x-python",
   "name": "python",
   "nbconvert_exporter": "python",
   "pygments_lexer": "ipython3",
   "version": "3.6.4"
  }
 },
 "nbformat": 4,
 "nbformat_minor": 2
}
